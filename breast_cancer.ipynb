{
  "cells": [
    {
      "cell_type": "markdown",
      "metadata": {
        "colab_type": "text",
        "id": "view-in-github"
      },
      "source": [
        "<a href=\"https://colab.research.google.com/github/AnthonySanchez150/CECS456-Project/blob/main/Copy_of_breast_cancer.ipynb\" target=\"_parent\"><img src=\"https://colab.research.google.com/assets/colab-badge.svg\" alt=\"Open In Colab\"/></a>"
      ]
    },
    {
      "cell_type": "markdown",
      "metadata": {
        "id": "2-FQeq22oKJg"
      },
      "source": [
        "Dataset Description\n",
        "This data set includes 201 instances of one class and 85 instances of another class. The instances are described by 9 attributes, some of which are linear, and some are nominal.\n",
        "Tasks:\n",
        "Predict if the patient has breast cancer or not (binary classification problem)\n",
        "Instructions/Directions:\n",
        "1.\tPerform exploratory data analysis and feature selection \t\n",
        "2.\tVisualization\n",
        "            2.1. Plot the variable distribution using box plot, histogram, and provide a summary of your understanding.  \n",
        "            2.2. Provide an insight on the outcome of correlation matrix   \n",
        "3.\tPerform feature extraction using Principal Component Analysis (PCA). \n",
        "4.\tPlot the confusion matrix. \n",
        "5.\tEvaluate the performance metrics of logistic regression, SVM classifier, Naïve Bayes classifier, and Random Forest classifier.  \n",
        "6.\tPlot the relevant graphs, for example ROC, AUC, etc. \n",
        "7.\tUse Artificial Neural Network (Deep Learning Method) and compare the accuracy with traditional Machine Learning Models. Write down your observations.\n",
        "Dataset: https://archive.ics.uci.edu/ml/datasets/Breast+Cancer\n",
        "'"
      ]
    },
    {
      "cell_type": "markdown",
      "metadata": {
        "id": "mFQ5EKaKVPyW"
      },
      "source": [
        "## Breast Cancer Prediction\n",
        "\n",
        "CECS 456 - Machine Learning\n",
        "\n",
        "Group #9:\n",
        "- Phong Cao (Leader)\n",
        "- Peter Pham\n",
        "- Jeremy Lin\n",
        "- Maximillian Gutierrez\n",
        "- Anthony Sanchez\n",
        "- John Messina\n",
        "\n",
        "Due Date: 4-26-23"
      ]
    },
    {
      "cell_type": "code",
      "execution_count": 2,
      "metadata": {
        "id": "fjO0vwcBVPyb"
      },
      "outputs": [],
      "source": [
        "import numpy as np\n",
        "import matplotlib.pyplot as plt\n",
        "import pandas as pd"
      ]
    },
    {
      "cell_type": "markdown",
      "metadata": {
        "id": "7B56SfFqVPyc"
      },
      "source": [
        "## Exploratory Data Analysis"
      ]
    },
    {
      "cell_type": "code",
      "execution_count": 7,
      "metadata": {
        "colab": {
          "base_uri": "https://localhost:8080/"
        },
        "id": "1VnkKfplVPyc",
        "outputId": "a5049995-d3fb-4b6a-cc4c-e8595258b6d8"
      },
      "outputs": [
        {
          "name": "stdout",
          "output_type": "stream",
          "text": [
            "286\n",
            "286\n"
          ]
        }
      ],
      "source": [
        "dataset = pd.read_csv('breast-cancer.data',skiprows=0)\n",
        "X = dataset.iloc[:, 1:].values\n",
        "y = dataset.iloc[:, 0].values\n",
        "print(len(X))\n",
        "print(len(y))\n",
        "# Not sure if this is right"
      ]
    },
    {
      "cell_type": "code",
      "execution_count": 8,
      "metadata": {
        "colab": {
          "base_uri": "https://localhost:8080/"
        },
        "id": "UgS-EbTFVPyd",
        "outputId": "95162149-0aa2-452f-dfa3-c0c55404d0c4"
      },
      "outputs": [
        {
          "name": "stdout",
          "output_type": "stream",
          "text": [
            "[['30-39' 'premeno' '30-34' ... 'left' 'left_low' 'no']\n",
            " ['40-49' 'premeno' '20-24' ... 'right' 'right_up' 'no']\n",
            " ['40-49' 'premeno' '20-24' ... 'left' 'left_low' 'no']\n",
            " ...\n",
            " ['60-69' 'ge40' '20-24' ... 'right' 'left_up' 'no']\n",
            " ['40-49' 'ge40' '30-34' ... 'left' 'left_low' 'no']\n",
            " ['50-59' 'ge40' '30-34' ... 'left' 'left_low' 'no']]\n",
            "\n",
            "[0.0 0.0 1.0 1 5 0 1 3 0 2 0]\n",
            "286\n"
          ]
        }
      ],
      "source": [
        "print(X)\n",
        "\n",
        "from sklearn.compose import ColumnTransformer\n",
        "from sklearn.preprocessing import OneHotEncoder, LabelEncoder\n",
        "\n",
        "''' ct = ColumnTransformer(transformers=[('encoder',LabelEncoder(),[0,1,3,4,5,8])],remainder=\"passthrough\")\n",
        "X = np.array(ct.fit_transform(X)) '''\n",
        "\n",
        "le = LabelEncoder()\n",
        "X[:,0] = le.fit_transform(X[:,0])\n",
        "#X[:,1] = le.fit_transform(X[:,1])\n",
        "X[:,2] = le.fit_transform(X[:,2])\n",
        "X[:,3] = le.fit_transform(X[:,3])\n",
        "X[:,4] = le.fit_transform(X[:,4])\n",
        "X[:,6] = le.fit_transform(X[:,6])\n",
        "X[:,7] = le.fit_transform(X[:,7])\n",
        "X[:,8] = le.fit_transform(X[:,8])\n",
        "y = le.fit_transform(y)\n",
        "\n",
        "ct = ColumnTransformer(transformers=[('encoder',OneHotEncoder(),[1])],remainder=\"passthrough\")\n",
        "X = np.array(ct.fit_transform(X))\n",
        "\n",
        "#30-39,premeno,30-34,0-2,no,3,left,left_low,no\n",
        "\n",
        "\n",
        "\n",
        "print()\n",
        "print(X[0])\n",
        "\n",
        "print(len(X))"
      ]
    },
    {
      "cell_type": "code",
      "execution_count": null,
      "metadata": {
        "colab": {
          "base_uri": "https://localhost:8080/"
        },
        "id": "OxKqIP0uVPye",
        "outputId": "2b9e03a0-bbce-4587-94ea-680b52b6e9c0"
      },
      "outputs": [],
      "source": [
        "print(y)"
      ]
    },
    {
      "cell_type": "code",
      "execution_count": null,
      "metadata": {
        "id": "9qGhIyaXVPye"
      },
      "outputs": [],
      "source": [
        "from sklearn.model_selection import train_test_split\n",
        "X_train, X_test, y_train, y_test = train_test_split(X,y,test_size=0.2,random_state=0)"
      ]
    }
  ],
  "metadata": {
    "colab": {
      "include_colab_link": true,
      "provenance": []
    },
    "kernelspec": {
      "display_name": "Python 3",
      "language": "python",
      "name": "python3"
    },
    "language_info": {
      "codemirror_mode": {
        "name": "ipython",
        "version": 3
      },
      "file_extension": ".py",
      "mimetype": "text/x-python",
      "name": "python",
      "nbconvert_exporter": "python",
      "pygments_lexer": "ipython3",
      "version": "3.11.3"
    },
    "orig_nbformat": 4
  },
  "nbformat": 4,
  "nbformat_minor": 0
}
