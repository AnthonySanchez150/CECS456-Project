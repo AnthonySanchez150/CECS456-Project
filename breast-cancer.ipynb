{
 "cells": [
  {
   "attachments": {},
   "cell_type": "markdown",
   "metadata": {},
   "source": [
    "## Breast Cancer Prediction\n",
    "\n",
    "CECS 456 - Machine Learning\n",
    "\n",
    "Group #9:\n",
    "- Phong Cao (Leader)\n",
    "- Peter Pham\n",
    "- Jeremy Lin\n",
    "- Omar Lee\n",
    "- Maximillian Gutierrez\n",
    "- Anthony Sanchez\n",
    "- John Messina\n",
    "\n",
    "Due Date: 4-26-23"
   ]
  },
  {
   "cell_type": "code",
   "execution_count": 1,
   "metadata": {},
   "outputs": [],
   "source": [
    "import numpy as np\n",
    "import matplotlib.pyplot as plt\n",
    "import pandas as pd"
   ]
  },
  {
   "attachments": {},
   "cell_type": "markdown",
   "metadata": {},
   "source": [
    "## Exploratory Data Analysis"
   ]
  },
  {
   "cell_type": "code",
   "execution_count": 4,
   "metadata": {},
   "outputs": [],
   "source": [
    "dataset = pd.read_csv('breast-cancer.data')\n",
    "X = dataset.iloc[:, 1:].values\n",
    "y = dataset.iloc[:, 0].values\n",
    "# Not sure if this is right"
   ]
  },
  {
   "cell_type": "code",
   "execution_count": 5,
   "metadata": {},
   "outputs": [
    {
     "name": "stdout",
     "output_type": "stream",
     "text": [
      "[['40-49' 'premeno' '20-24' ... 'right' 'right_up' 'no']\n",
      " ['40-49' 'premeno' '20-24' ... 'left' 'left_low' 'no']\n",
      " ['60-69' 'ge40' '15-19' ... 'right' 'left_up' 'no']\n",
      " ...\n",
      " ['60-69' 'ge40' '20-24' ... 'right' 'left_up' 'no']\n",
      " ['40-49' 'ge40' '30-34' ... 'left' 'left_low' 'no']\n",
      " ['50-59' 'ge40' '30-34' ... 'left' 'left_low' 'no']]\n"
     ]
    }
   ],
   "source": [
    "print(X)"
   ]
  },
  {
   "cell_type": "code",
   "execution_count": 6,
   "metadata": {},
   "outputs": [
    {
     "name": "stdout",
     "output_type": "stream",
     "text": [
      "['no-recurrence-events' 'no-recurrence-events' 'no-recurrence-events'\n",
      " 'no-recurrence-events' 'no-recurrence-events' 'no-recurrence-events'\n",
      " 'no-recurrence-events' 'no-recurrence-events' 'no-recurrence-events'\n",
      " 'no-recurrence-events' 'no-recurrence-events' 'no-recurrence-events'\n",
      " 'no-recurrence-events' 'no-recurrence-events' 'no-recurrence-events'\n",
      " 'no-recurrence-events' 'no-recurrence-events' 'no-recurrence-events'\n",
      " 'no-recurrence-events' 'no-recurrence-events' 'no-recurrence-events'\n",
      " 'no-recurrence-events' 'no-recurrence-events' 'no-recurrence-events'\n",
      " 'no-recurrence-events' 'no-recurrence-events' 'no-recurrence-events'\n",
      " 'no-recurrence-events' 'no-recurrence-events' 'no-recurrence-events'\n",
      " 'no-recurrence-events' 'no-recurrence-events' 'no-recurrence-events'\n",
      " 'no-recurrence-events' 'no-recurrence-events' 'no-recurrence-events'\n",
      " 'no-recurrence-events' 'no-recurrence-events' 'no-recurrence-events'\n",
      " 'no-recurrence-events' 'no-recurrence-events' 'no-recurrence-events'\n",
      " 'no-recurrence-events' 'no-recurrence-events' 'no-recurrence-events'\n",
      " 'no-recurrence-events' 'no-recurrence-events' 'no-recurrence-events'\n",
      " 'no-recurrence-events' 'no-recurrence-events' 'no-recurrence-events'\n",
      " 'no-recurrence-events' 'no-recurrence-events' 'no-recurrence-events'\n",
      " 'no-recurrence-events' 'no-recurrence-events' 'no-recurrence-events'\n",
      " 'no-recurrence-events' 'no-recurrence-events' 'no-recurrence-events'\n",
      " 'no-recurrence-events' 'no-recurrence-events' 'no-recurrence-events'\n",
      " 'no-recurrence-events' 'no-recurrence-events' 'no-recurrence-events'\n",
      " 'no-recurrence-events' 'no-recurrence-events' 'no-recurrence-events'\n",
      " 'no-recurrence-events' 'no-recurrence-events' 'no-recurrence-events'\n",
      " 'no-recurrence-events' 'no-recurrence-events' 'no-recurrence-events'\n",
      " 'no-recurrence-events' 'no-recurrence-events' 'no-recurrence-events'\n",
      " 'no-recurrence-events' 'no-recurrence-events' 'no-recurrence-events'\n",
      " 'no-recurrence-events' 'no-recurrence-events' 'no-recurrence-events'\n",
      " 'no-recurrence-events' 'no-recurrence-events' 'no-recurrence-events'\n",
      " 'no-recurrence-events' 'no-recurrence-events' 'no-recurrence-events'\n",
      " 'no-recurrence-events' 'no-recurrence-events' 'no-recurrence-events'\n",
      " 'no-recurrence-events' 'no-recurrence-events' 'no-recurrence-events'\n",
      " 'no-recurrence-events' 'no-recurrence-events' 'no-recurrence-events'\n",
      " 'no-recurrence-events' 'no-recurrence-events' 'no-recurrence-events'\n",
      " 'no-recurrence-events' 'no-recurrence-events' 'no-recurrence-events'\n",
      " 'no-recurrence-events' 'no-recurrence-events' 'no-recurrence-events'\n",
      " 'no-recurrence-events' 'no-recurrence-events' 'no-recurrence-events'\n",
      " 'no-recurrence-events' 'no-recurrence-events' 'no-recurrence-events'\n",
      " 'no-recurrence-events' 'no-recurrence-events' 'no-recurrence-events'\n",
      " 'no-recurrence-events' 'no-recurrence-events' 'no-recurrence-events'\n",
      " 'no-recurrence-events' 'no-recurrence-events' 'no-recurrence-events'\n",
      " 'no-recurrence-events' 'no-recurrence-events' 'no-recurrence-events'\n",
      " 'no-recurrence-events' 'no-recurrence-events' 'no-recurrence-events'\n",
      " 'no-recurrence-events' 'no-recurrence-events' 'no-recurrence-events'\n",
      " 'no-recurrence-events' 'no-recurrence-events' 'no-recurrence-events'\n",
      " 'no-recurrence-events' 'no-recurrence-events' 'no-recurrence-events'\n",
      " 'no-recurrence-events' 'no-recurrence-events' 'no-recurrence-events'\n",
      " 'no-recurrence-events' 'no-recurrence-events' 'no-recurrence-events'\n",
      " 'no-recurrence-events' 'no-recurrence-events' 'no-recurrence-events'\n",
      " 'no-recurrence-events' 'no-recurrence-events' 'no-recurrence-events'\n",
      " 'no-recurrence-events' 'no-recurrence-events' 'no-recurrence-events'\n",
      " 'no-recurrence-events' 'no-recurrence-events' 'no-recurrence-events'\n",
      " 'no-recurrence-events' 'no-recurrence-events' 'no-recurrence-events'\n",
      " 'no-recurrence-events' 'no-recurrence-events' 'no-recurrence-events'\n",
      " 'no-recurrence-events' 'no-recurrence-events' 'no-recurrence-events'\n",
      " 'no-recurrence-events' 'no-recurrence-events' 'no-recurrence-events'\n",
      " 'no-recurrence-events' 'no-recurrence-events' 'no-recurrence-events'\n",
      " 'no-recurrence-events' 'no-recurrence-events' 'no-recurrence-events'\n",
      " 'no-recurrence-events' 'no-recurrence-events' 'no-recurrence-events'\n",
      " 'no-recurrence-events' 'no-recurrence-events' 'no-recurrence-events'\n",
      " 'no-recurrence-events' 'no-recurrence-events' 'no-recurrence-events'\n",
      " 'no-recurrence-events' 'no-recurrence-events' 'no-recurrence-events'\n",
      " 'no-recurrence-events' 'no-recurrence-events' 'no-recurrence-events'\n",
      " 'no-recurrence-events' 'no-recurrence-events' 'no-recurrence-events'\n",
      " 'no-recurrence-events' 'no-recurrence-events' 'no-recurrence-events'\n",
      " 'no-recurrence-events' 'no-recurrence-events' 'no-recurrence-events'\n",
      " 'no-recurrence-events' 'no-recurrence-events' 'recurrence-events'\n",
      " 'recurrence-events' 'recurrence-events' 'recurrence-events'\n",
      " 'recurrence-events' 'recurrence-events' 'recurrence-events'\n",
      " 'recurrence-events' 'recurrence-events' 'recurrence-events'\n",
      " 'recurrence-events' 'recurrence-events' 'recurrence-events'\n",
      " 'recurrence-events' 'recurrence-events' 'recurrence-events'\n",
      " 'recurrence-events' 'recurrence-events' 'recurrence-events'\n",
      " 'recurrence-events' 'recurrence-events' 'recurrence-events'\n",
      " 'recurrence-events' 'recurrence-events' 'recurrence-events'\n",
      " 'recurrence-events' 'recurrence-events' 'recurrence-events'\n",
      " 'recurrence-events' 'recurrence-events' 'recurrence-events'\n",
      " 'recurrence-events' 'recurrence-events' 'recurrence-events'\n",
      " 'recurrence-events' 'recurrence-events' 'recurrence-events'\n",
      " 'recurrence-events' 'recurrence-events' 'recurrence-events'\n",
      " 'recurrence-events' 'recurrence-events' 'recurrence-events'\n",
      " 'recurrence-events' 'recurrence-events' 'recurrence-events'\n",
      " 'recurrence-events' 'recurrence-events' 'recurrence-events'\n",
      " 'recurrence-events' 'recurrence-events' 'recurrence-events'\n",
      " 'recurrence-events' 'recurrence-events' 'recurrence-events'\n",
      " 'recurrence-events' 'recurrence-events' 'recurrence-events'\n",
      " 'recurrence-events' 'recurrence-events' 'recurrence-events'\n",
      " 'recurrence-events' 'recurrence-events' 'recurrence-events'\n",
      " 'recurrence-events' 'recurrence-events' 'recurrence-events'\n",
      " 'recurrence-events' 'recurrence-events' 'recurrence-events'\n",
      " 'recurrence-events' 'recurrence-events' 'recurrence-events'\n",
      " 'recurrence-events' 'recurrence-events' 'recurrence-events'\n",
      " 'recurrence-events' 'recurrence-events' 'recurrence-events'\n",
      " 'recurrence-events' 'recurrence-events' 'recurrence-events'\n",
      " 'recurrence-events' 'recurrence-events' 'recurrence-events']\n"
     ]
    }
   ],
   "source": [
    "print(y)"
   ]
  },
  {
   "cell_type": "code",
   "execution_count": null,
   "metadata": {},
   "outputs": [],
   "source": []
  }
 ],
 "metadata": {
  "kernelspec": {
   "display_name": "Python 3",
   "language": "python",
   "name": "python3"
  },
  "language_info": {
   "codemirror_mode": {
    "name": "ipython",
    "version": 3
   },
   "file_extension": ".py",
   "mimetype": "text/x-python",
   "name": "python",
   "nbconvert_exporter": "python",
   "pygments_lexer": "ipython3",
   "version": "3.10.7"
  },
  "orig_nbformat": 4
 },
 "nbformat": 4,
 "nbformat_minor": 2
}
